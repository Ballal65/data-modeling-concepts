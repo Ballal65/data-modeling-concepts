{
 "cells": [
  {
   "cell_type": "code",
   "execution_count": 11,
   "id": "53211987-4f9f-4024-86e3-e54ffa530c37",
   "metadata": {},
   "outputs": [],
   "source": [
    "from pyspark.sql import SparkSession"
   ]
  },
  {
   "cell_type": "code",
   "execution_count": 12,
   "id": "4a4649f6-a887-4ac4-9cce-9fe3a0e19df8",
   "metadata": {},
   "outputs": [],
   "source": [
    "spark = SparkSession.builder.appName(\"playersTableCreation\").getOrCreate()"
   ]
  },
  {
   "cell_type": "code",
   "execution_count": 13,
   "id": "f48c7c9b-5008-4142-9f94-9b2716194daf",
   "metadata": {},
   "outputs": [
    {
     "data": {
      "text/html": [
       "\n",
       "            <div>\n",
       "                <p><b>SparkSession - in-memory</b></p>\n",
       "                \n",
       "        <div>\n",
       "            <p><b>SparkContext</b></p>\n",
       "\n",
       "            <p><a href=\"http://92f1602221b9:4043\">Spark UI</a></p>\n",
       "\n",
       "            <dl>\n",
       "              <dt>Version</dt>\n",
       "                <dd><code>v3.2.1</code></dd>\n",
       "              <dt>Master</dt>\n",
       "                <dd><code>local[*]</code></dd>\n",
       "              <dt>AppName</dt>\n",
       "                <dd><code>playersTableCreation</code></dd>\n",
       "            </dl>\n",
       "        </div>\n",
       "        \n",
       "            </div>\n",
       "        "
      ],
      "text/plain": [
       "<pyspark.sql.session.SparkSession at 0x7a29f42aee50>"
      ]
     },
     "execution_count": 13,
     "metadata": {},
     "output_type": "execute_result"
    }
   ],
   "source": [
    "spark"
   ]
  },
  {
   "cell_type": "code",
   "execution_count": 27,
   "id": "f03b4808-35f9-47b5-98f1-3f2154df5cc3",
   "metadata": {},
   "outputs": [],
   "source": [
    "players_season = spark.read \\\n",
    "    .format(\"jdbc\") \\\n",
    "    .option(\"url\", \"jdbc:postgresql://postgres:5432/postgres\") \\\n",
    "    .option(\"dbtable\", \"player_seasons\") \\\n",
    "    .option(\"user\", \"postgres\") \\\n",
    "    .option(\"password\", \"postgres\") \\\n",
    "    .option(\"driver\", \"org.postgresql.Driver\") \\\n",
    "    .load()"
   ]
  },
  {
   "cell_type": "code",
   "execution_count": 29,
   "id": "698c9b3c-ca07-4759-a733-3fe8bce7c4ae",
   "metadata": {},
   "outputs": [],
   "source": [
    "#For first time testings - \n",
    "#players_season.show(5)"
   ]
  },
  {
   "cell_type": "code",
   "execution_count": 16,
   "id": "8f1d1cdd-0077-43d2-b404-9666c22fa8f4",
   "metadata": {},
   "outputs": [],
   "source": [
    "def cumulatively_increment_players(spark, player_seasons, players, min_season, max_season):\n",
    "    # Ensure `season` in player_seasons is an integer\n",
    "    player_seasons = player_seasons.withColumn(\"season\", player_seasons[\"season\"].cast(\"int\"))\n",
    "    \n",
    "    player_seasons.createOrReplaceTempView(\"player_seasons\")\n",
    "    players.createOrReplaceTempView(\"players\")\n",
    "    \n",
    "    # Iterate over each season\n",
    "    for i in range(min_season, max_season + 1):\n",
    "        current_season = i - 1\n",
    "        season = i\n",
    "        print(f\"Current Season in players = {current_season} \\n season {season}\")\n",
    "        # SparkSQL query\n",
    "        cumulative_query = f\"\"\"\n",
    "        WITH yesterday AS (\n",
    "            SELECT * FROM players\n",
    "            WHERE current_season = {current_season}\n",
    "        ),\n",
    "        today AS (\n",
    "            SELECT * FROM player_seasons\n",
    "            WHERE season = {season}\n",
    "        )\n",
    "        SELECT\n",
    "            COALESCE(t.player_name, y.player_name) AS player_name,\n",
    "            COALESCE(t.height, y.height) AS height,\n",
    "            COALESCE(t.college, y.college) AS college,\n",
    "            COALESCE(t.country, y.country) AS country,\n",
    "            COALESCE(t.draft_year, y.draft_year) AS draft_year,\n",
    "            COALESCE(t.draft_round, y.draft_round) AS draft_round,\n",
    "            COALESCE(t.draft_number, y.draft_number) AS draft_number,\n",
    "            CASE \n",
    "                WHEN y.season_stats IS NULL THEN array(named_struct('season', t.season, 'gp', t.gp, 'pts', t.pts, 'reb', t.reb, 'ast', t.ast))\n",
    "                WHEN t.season IS NOT NULL THEN concat(y.season_stats, array(named_struct('season', t.season, 'gp', t.gp, 'pts', t.pts, 'reb', t.reb, 'ast', t.ast)))\n",
    "                ELSE y.season_stats\n",
    "            END AS season_stats,\n",
    "            COALESCE(t.season, y.current_season + 1) as current_season\n",
    "        FROM today t\n",
    "        FULL OUTER JOIN yesterday y\n",
    "        ON t.player_name = y.player_name\n",
    "        \"\"\"\n",
    "        \n",
    "        # Execute the query\n",
    "        updated_players = spark.sql(cumulative_query)\n",
    "        \n",
    "        # Append the new results to `players` (cumulative union)\n",
    "        players = players.union(updated_players)\n",
    "    \n",
    "    return players"
   ]
  },
  {
   "cell_type": "code",
   "execution_count": 30,
   "id": "89d5ffff-d9d3-41e6-8457-d850b8bda6fb",
   "metadata": {},
   "outputs": [],
   "source": [
    "from pyspark.sql.types import *"
   ]
  },
  {
   "cell_type": "markdown",
   "id": "725018b7-4671-46fc-bd9d-4f8fbbd8d788",
   "metadata": {},
   "source": [
    "## In postgresSQL we created a TYPE. In Spark we need to created an StructType[StructField(\"Column\", DataType, Nullable Boolean)]\n",
    "     CREATE TYPE season_stats AS (\n",
    " \tseason INTEGER,\n",
    "     gp INTEGER,\n",
    "     pts REAL,\n",
    "     reb REAL,\n",
    "     ast REAL\n",
    "     );"
   ]
  },
  {
   "cell_type": "code",
   "execution_count": 31,
   "id": "67aa8318-d1da-47dc-ab77-bbb18ccf8574",
   "metadata": {},
   "outputs": [],
   "source": [
    "season_stats_schema = StructType([\n",
    "    StructField(\"season\", IntegerType(), True),\n",
    "    StructField(\"gp\", IntegerType(), True),\n",
    "    StructField(\"pts\", FloatType(), True),\n",
    "    StructField(\"reb\", FloatType(), True),\n",
    "    StructField(\"ast\", FloatType(), True)\n",
    "])"
   ]
  },
  {
   "cell_type": "code",
   "execution_count": 52,
   "id": "8be7d72f-0216-4331-816d-9257f38e22f9",
   "metadata": {},
   "outputs": [],
   "source": [
    "players_schema = StructType([\n",
    "    StructField(\"player_name\", StringType(), True),\n",
    "    StructField(\"height\", StringType(), True),\n",
    "    StructField(\"college\", StringType(), True),\n",
    "    StructField(\"country\", StringType(), True),\n",
    "    StructField(\"draft_year\", StringType(), True),\n",
    "    StructField(\"draft_round\", StringType(), True),\n",
    "    StructField(\"draft_number\", StringType(), True),\n",
    "    StructField(\"season_stats\", ArrayType(season_stats_schema), True),\n",
    "    StructField(\"current_season\", IntegerType(), True)\n",
    "])"
   ]
  },
  {
   "cell_type": "code",
   "execution_count": 53,
   "id": "b4b3c7ed-8c24-40a6-ac9c-e6b1753f3a56",
   "metadata": {},
   "outputs": [],
   "source": [
    "# Initialize an empty DataFrame for players\n",
    "players = spark.createDataFrame([], players_schema)"
   ]
  },
  {
   "cell_type": "code",
   "execution_count": 54,
   "id": "95e04537-1456-41a3-9bba-4ae7e0f499e4",
   "metadata": {},
   "outputs": [
    {
     "name": "stdout",
     "output_type": "stream",
     "text": [
      "Current Season in players = 1995 \n",
      " season 1996\n",
      "Current Season in players = 1996 \n",
      " season 1997\n",
      "Current Season in players = 1997 \n",
      " season 1998\n",
      "Current Season in players = 1998 \n",
      " season 1999\n",
      "Current Season in players = 1999 \n",
      " season 2000\n",
      "Current Season in players = 2000 \n",
      " season 2001\n",
      "Current Season in players = 2001 \n",
      " season 2002\n",
      "Current Season in players = 2002 \n",
      " season 2003\n",
      "Current Season in players = 2003 \n",
      " season 2004\n",
      "Current Season in players = 2004 \n",
      " season 2005\n",
      "Current Season in players = 2005 \n",
      " season 2006\n",
      "Current Season in players = 2006 \n",
      " season 2007\n",
      "Current Season in players = 2007 \n",
      " season 2008\n",
      "Current Season in players = 2008 \n",
      " season 2009\n",
      "Current Season in players = 2009 \n",
      " season 2010\n",
      "Current Season in players = 2010 \n",
      " season 2011\n",
      "Current Season in players = 2011 \n",
      " season 2012\n",
      "Current Season in players = 2012 \n",
      " season 2013\n",
      "Current Season in players = 2013 \n",
      " season 2014\n",
      "Current Season in players = 2014 \n",
      " season 2015\n",
      "Current Season in players = 2015 \n",
      " season 2016\n",
      "Current Season in players = 2016 \n",
      " season 2017\n",
      "Current Season in players = 2017 \n",
      " season 2018\n",
      "Current Season in players = 2018 \n",
      " season 2019\n",
      "Current Season in players = 2019 \n",
      " season 2020\n",
      "Current Season in players = 2020 \n",
      " season 2021\n",
      "Current Season in players = 2021 \n",
      " season 2022\n"
     ]
    }
   ],
   "source": [
    "# Execute the cumulative function\n",
    "output_df = cumulatively_increment_players(spark, players_season, players, 1996, 2022)"
   ]
  },
  {
   "cell_type": "code",
   "execution_count": 56,
   "id": "c46dc93a-6eb3-4d85-9390-e79b977fac09",
   "metadata": {},
   "outputs": [
    {
     "name": "stderr",
     "output_type": "stream",
     "text": [
      "                                                                                "
     ]
    },
    {
     "name": "stdout",
     "output_type": "stream",
     "text": [
      "+----------------+------+-----------------+-------+----------+-----------+------------+--------------------+--------------+\n",
      "|     player_name|height|          college|country|draft_year|draft_round|draft_number|        season_stats|current_season|\n",
      "+----------------+------+-----------------+-------+----------+-----------+------------+--------------------+--------------+\n",
      "|   Reggie Miller|   6-7|             UCLA|    USA|      1987|          1|          11|[{1996, 81, 21.6,...|          1996|\n",
      "|     Terry Mills|  6-10|         Michigan|    USA|      1990|          1|          16|[{1996, 79, 10.8,...|          1996|\n",
      "|    Bobby Phills|   6-5|         Southern|    USA|      1991|          2|          45|[{1996, 69, 12.6,...|          1996|\n",
      "|    Carl Herrera|   6-9|          Houston|    USA|      1990|          2|          30|[{1996, 75, 8, 4....|          1996|\n",
      "|   Eric Williams|   6-8|       Providence|    USA|      1995|          1|          14|[{1996, 72, 15, 4...|          1996|\n",
      "|   Lloyd Daniels|   6-7|  Mt. San Antonio|    USA| Undrafted|  Undrafted|   Undrafted|[{1996, 22, 4.5, ...|          1996|\n",
      "|   Michael Smith|   6-8|       Providence|    USA|      1994|          2|          35|[{1996, 81, 6.6, ...|          1996|\n",
      "|Shandon Anderson|   6-6|          Georgia|    USA|      1996|          2|          54|[{1996, 65, 5.9, ...|          1996|\n",
      "|  Terry Cummings|   6-9|           DePaul|    USA|      1982|          1|           2|[{1996, 45, 8.2, ...|          1996|\n",
      "|       Acie Earl|  6-11|             Iowa|    USA|      1993|          1|          19|[{1996, 47, 4, 2,...|          1996|\n",
      "|  Sharone Wright|  6-11|          Clemson|    USA|      1994|          1|           6|[{1996, 60, 6.5, ...|          1996|\n",
      "|      Yinka Dare|   7-0|George Washington|    USA|      1994|          1|          14|[{1996, 41, 1.4, ...|          1996|\n",
      "|    Bobby Hurley|   6-0|             Duke|    USA|      1993|          1|           7|[{1996, 49, 2.9, ...|          1996|\n",
      "|    George Lynch|   6-8|   North Carolina|    USA|      1993|          1|          12|[{1996, 41, 8.3, ...|          1996|\n",
      "|         Lou Roe|   6-7|    Massachusetts|    USA|      1995|          2|          30|[{1996, 17, 2.4, ...|          1996|\n",
      "|   Anthony Mason|   6-8|  Tennessee State|    USA|      1988|          3|          53|[{1996, 73, 16.2,...|          1996|\n",
      "|  Anthony Peeler|   6-4|         Missouri|    USA|      1992|          1|          15|[{1996, 72, 14.5,...|          1996|\n",
      "|  Felton Spencer|   7-0|       Louisville|    USA|      1990|          1|           6|[{1996, 73, 5.1, ...|          1996|\n",
      "| Jayson Williams|   6-9|  St. John's (NY)|    USA|      1990|          1|          21|[{1996, 41, 13.4,...|          1996|\n",
      "|   Stacey Augmon|   6-8|             UNLV|    USA|      1991|          1|           9|[{1996, 60, 4.7, ...|          1996|\n",
      "+----------------+------+-----------------+-------+----------+-----------+------------+--------------------+--------------+\n",
      "only showing top 20 rows\n",
      "\n"
     ]
    }
   ],
   "source": [
    "output_df.show(20)"
   ]
  },
  {
   "cell_type": "code",
   "execution_count": null,
   "id": "8997714c-de87-4977-919c-b4a522e2fa7d",
   "metadata": {},
   "outputs": [],
   "source": []
  }
 ],
 "metadata": {
  "kernelspec": {
   "display_name": "Python 3 (ipykernel)",
   "language": "python",
   "name": "python3"
  },
  "language_info": {
   "codemirror_mode": {
    "name": "ipython",
    "version": 3
   },
   "file_extension": ".py",
   "mimetype": "text/x-python",
   "name": "python",
   "nbconvert_exporter": "python",
   "pygments_lexer": "ipython3",
   "version": "3.8.13"
  }
 },
 "nbformat": 4,
 "nbformat_minor": 5
}
