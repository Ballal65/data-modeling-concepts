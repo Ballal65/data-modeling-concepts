{
 "cells": [
  {
   "cell_type": "code",
   "execution_count": 19,
   "id": "82a6b813-2d12-4fbd-acd3-c7ca754533fa",
   "metadata": {},
   "outputs": [],
   "source": [
    "import os"
   ]
  },
  {
   "cell_type": "code",
   "execution_count": 20,
   "id": "35619e56-7507-4f68-ab48-cf27916530d8",
   "metadata": {},
   "outputs": [
    {
     "data": {
      "text/plain": [
       "['.ipynb_checkpoints',\n",
       " 'first_notebook.ipynb',\n",
       " 'inserting_data_to_postgres.ipynb']"
      ]
     },
     "execution_count": 20,
     "metadata": {},
     "output_type": "execute_result"
    }
   ],
   "source": [
    "os.listdir()"
   ]
  },
  {
   "cell_type": "code",
   "execution_count": 21,
   "id": "ec35bd08-2f27-4eb9-8f23-03f398b2d119",
   "metadata": {},
   "outputs": [
    {
     "data": {
      "text/plain": [
       "['player_seasons.csv']"
      ]
     },
     "execution_count": 21,
     "metadata": {},
     "output_type": "execute_result"
    }
   ],
   "source": [
    "os.listdir('../extracted_data/data_modeling_files')"
   ]
  },
  {
   "cell_type": "code",
   "execution_count": 27,
   "id": "5a215fa6-55b3-4052-a1d1-dcb86dba6510",
   "metadata": {},
   "outputs": [],
   "source": [
    "input_path = '../extracted_data/data_modeling_files/player_seasons.csv'"
   ]
  },
  {
   "cell_type": "code",
   "execution_count": 28,
   "id": "94671f27-d535-4180-9239-537c56a5ac90",
   "metadata": {},
   "outputs": [],
   "source": [
    "from pyspark.sql import SparkSession"
   ]
  },
  {
   "cell_type": "code",
   "execution_count": 29,
   "id": "1fc50b2b-55c9-4d1b-bfbd-84fc2bfd5653",
   "metadata": {},
   "outputs": [],
   "source": [
    "spark = SparkSession.builder.appName(\"sparkToPostgres\").getOrCreate()"
   ]
  },
  {
   "cell_type": "code",
   "execution_count": 30,
   "id": "47b9093f-9f28-4959-909e-fccce18dca73",
   "metadata": {},
   "outputs": [
    {
     "data": {
      "text/html": [
       "\n",
       "            <div>\n",
       "                <p><b>SparkSession - in-memory</b></p>\n",
       "                \n",
       "        <div>\n",
       "            <p><b>SparkContext</b></p>\n",
       "\n",
       "            <p><a href=\"http://92f1602221b9:4041\">Spark UI</a></p>\n",
       "\n",
       "            <dl>\n",
       "              <dt>Version</dt>\n",
       "                <dd><code>v3.2.1</code></dd>\n",
       "              <dt>Master</dt>\n",
       "                <dd><code>local[*]</code></dd>\n",
       "              <dt>AppName</dt>\n",
       "                <dd><code>sparkToPostgres</code></dd>\n",
       "            </dl>\n",
       "        </div>\n",
       "        \n",
       "            </div>\n",
       "        "
      ],
      "text/plain": [
       "<pyspark.sql.session.SparkSession at 0x72ede2bb1a60>"
      ]
     },
     "execution_count": 30,
     "metadata": {},
     "output_type": "execute_result"
    }
   ],
   "source": [
    "spark"
   ]
  },
  {
   "cell_type": "code",
   "execution_count": 36,
   "id": "1a8b89b2-a0d5-4c4a-bc47-67d7da6c054b",
   "metadata": {},
   "outputs": [],
   "source": [
    "df = spark.read.option(\"header\",True).csv(input_path)"
   ]
  },
  {
   "cell_type": "code",
   "execution_count": 37,
   "id": "35cc56c0-80aa-44f0-b999-6a5f8edc82dc",
   "metadata": {},
   "outputs": [
    {
     "name": "stdout",
     "output_type": "stream",
     "text": [
      "+--------------+---+------+------+------------+-------+----------+-----------+------------+---+---+---+---+------+--------+--------+-------+------+-------+------+\n",
      "|   player_name|age|height|weight|     college|country|draft_year|draft_round|draft_number| gp|pts|reb|ast|netrtg|oreb_pct|dreb_pct|usg_pct|ts_pct|ast_pct|season|\n",
      "+--------------+---+------+------+------------+-------+----------+-----------+------------+---+---+---+---+------+--------+--------+-------+------+-------+------+\n",
      "|    A.C. Green| 33|   6-9|   225|Oregon State|    USA|      1985|          1|          23| 83|7.2|7.9|0.8|  -7.4|     8.9|     8.9|   18.4|  11.8|    4.5|  1996|\n",
      "|   Aaron McKie| 24|   6-5|   209|      Temple|    USA|      1994|          1|          17| 83|5.2|2.7|1.9|   3.7|     2.6|     2.6|   11.3|  14.2|   16.3|  1996|\n",
      "|Aaron Williams| 25|   6-9|   225|      Xavier|    USA| Undrafted|  Undrafted|   Undrafted| 33|6.2|4.3|0.5|  -9.3|    11.3|    11.3|   14.4|  16.1|    5.1|  1996|\n",
      "|     Acie Earl| 27|  6-11|   240|        Iowa|    USA|      1993|          1|          19| 47|  4|  2|0.4|  -6.4|     6.7|     6.7|   12.2|    22|    7.7|  1996|\n",
      "|    Adam Keefe| 27|   6-9|   241|    Stanford|    USA|      1992|          1|          10| 62|3.8|3.5|0.5|   7.2|     9.6|     9.6|   15.8|  12.4|    5.1|  1996|\n",
      "+--------------+---+------+------+------------+-------+----------+-----------+------------+---+---+---+---+------+--------+--------+-------+------+-------+------+\n",
      "only showing top 5 rows\n",
      "\n"
     ]
    }
   ],
   "source": [
    "df.show(5)"
   ]
  },
  {
   "cell_type": "code",
   "execution_count": 38,
   "id": "f6b9dd7a-36a7-4ed3-8a93-0da6285328c4",
   "metadata": {},
   "outputs": [
    {
     "name": "stderr",
     "output_type": "stream",
     "text": [
      "                                                                                "
     ]
    }
   ],
   "source": [
    "df.write \\\n",
    "    .format(\"jdbc\") \\\n",
    "    .option(\"url\", \"jdbc:postgresql://postgres:5432/postgres\") \\\n",
    "    .option(\"dbtable\", \"player_seasons\") \\\n",
    "    .option(\"user\", \"postgres\") \\\n",
    "    .option(\"password\", \"postgres\") \\\n",
    "    .option(\"driver\", \"org.postgresql.Driver\") \\\n",
    "    .mode(\"append\") \\\n",
    "    .save()"
   ]
  },
  {
   "cell_type": "code",
   "execution_count": null,
   "id": "690f4bd9-6ffc-4eab-9e20-111ef726eb78",
   "metadata": {},
   "outputs": [],
   "source": []
  }
 ],
 "metadata": {
  "kernelspec": {
   "display_name": "Python 3 (ipykernel)",
   "language": "python",
   "name": "python3"
  },
  "language_info": {
   "codemirror_mode": {
    "name": "ipython",
    "version": 3
   },
   "file_extension": ".py",
   "mimetype": "text/x-python",
   "name": "python",
   "nbconvert_exporter": "python",
   "pygments_lexer": "ipython3",
   "version": "3.8.13"
  }
 },
 "nbformat": 4,
 "nbformat_minor": 5
}
