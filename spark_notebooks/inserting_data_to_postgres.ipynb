{
 "cells": [
  {
   "cell_type": "code",
   "execution_count": 1,
   "id": "82a6b813-2d12-4fbd-acd3-c7ca754533fa",
   "metadata": {},
   "outputs": [],
   "source": [
    "import os"
   ]
  },
  {
   "cell_type": "code",
   "execution_count": 4,
   "id": "35619e56-7507-4f68-ab48-cf27916530d8",
   "metadata": {},
   "outputs": [
    {
     "data": {
      "text/plain": [
       "['work-dir',\n",
       " 'examples',\n",
       " 'RELEASE',\n",
       " '.ipynb_checkpoints',\n",
       " 'transformed_data',\n",
       " 'Untitled.ipynb',\n",
       " 'notebooks',\n",
       " 'jobs',\n",
       " 'extracted_data',\n",
       " 'jars',\n",
       " 'requirements.txt',\n",
       " 'python',\n",
       " 'tests',\n",
       " 'data',\n",
       " 'sbin',\n",
       " 'bin']"
      ]
     },
     "execution_count": 4,
     "metadata": {},
     "output_type": "execute_result"
    }
   ],
   "source": [
    "os.listdir()"
   ]
  },
  {
   "cell_type": "code",
   "execution_count": null,
   "id": "ec35bd08-2f27-4eb9-8f23-03f398b2d119",
   "metadata": {},
   "outputs": [
    {
     "ename": "FileNotFoundError",
     "evalue": "[Errno 2] No such file or directory: '../extracted_data/data_modeling_files'",
     "output_type": "error",
     "traceback": [
      "\u001b[0;31m---------------------------------------------------------------------------\u001b[0m",
      "\u001b[0;31mFileNotFoundError\u001b[0m                         Traceback (most recent call last)",
      "Cell \u001b[0;32mIn[3], line 1\u001b[0m\n\u001b[0;32m----> 1\u001b[0m \u001b[43mos\u001b[49m\u001b[38;5;241;43m.\u001b[39;49m\u001b[43mlistdir\u001b[49m\u001b[43m(\u001b[49m\u001b[38;5;124;43m'\u001b[39;49m\u001b[38;5;124;43m../extracted_data/data_modeling_files\u001b[39;49m\u001b[38;5;124;43m'\u001b[39;49m\u001b[43m)\u001b[49m\n",
      "\u001b[0;31mFileNotFoundError\u001b[0m: [Errno 2] No such file or directory: '../extracted_data/data_modeling_files'"
     ]
    }
   ],
   "source": [
    "os.listdir('../extracted_data/data_modeling_files')"
   ]
  },
  {
   "cell_type": "code",
   "execution_count": 12,
   "id": "5a215fa6-55b3-4052-a1d1-dcb86dba6510",
   "metadata": {},
   "outputs": [
    {
     "ename": "AttributeError",
     "evalue": "module 'os' has no attribute 'listfiles'",
     "output_type": "error",
     "traceback": [
      "\u001b[0;31m---------------------------------------------------------------------------\u001b[0m",
      "\u001b[0;31mAttributeError\u001b[0m                            Traceback (most recent call last)",
      "Cell \u001b[0;32mIn[12], line 1\u001b[0m\n\u001b[0;32m----> 1\u001b[0m \u001b[43mos\u001b[49m\u001b[38;5;241;43m.\u001b[39;49m\u001b[43mlistfiles\u001b[49m()\n",
      "\u001b[0;31mAttributeError\u001b[0m: module 'os' has no attribute 'listfiles'"
     ]
    }
   ],
   "source": [
    "input_path = '../extracted_data/data_modeling_files/player_seaons.csv'"
   ]
  },
  {
   "cell_type": "code",
   "execution_count": 5,
   "id": "94671f27-d535-4180-9239-537c56a5ac90",
   "metadata": {},
   "outputs": [],
   "source": [
    "from pyspark.sql import SparkSession"
   ]
  },
  {
   "cell_type": "code",
   "execution_count": 8,
   "id": "1fc50b2b-55c9-4d1b-bfbd-84fc2bfd5653",
   "metadata": {},
   "outputs": [],
   "source": [
    "spark = SparkSession.builder.appName(\"sparkToPostgres\").getOrCreate()"
   ]
  },
  {
   "cell_type": "code",
   "execution_count": 9,
   "id": "47b9093f-9f28-4959-909e-fccce18dca73",
   "metadata": {},
   "outputs": [
    {
     "data": {
      "text/html": [
       "\n",
       "            <div>\n",
       "                <p><b>SparkSession - in-memory</b></p>\n",
       "                \n",
       "        <div>\n",
       "            <p><b>SparkContext</b></p>\n",
       "\n",
       "            <p><a href=\"http://92f1602221b9:4041\">Spark UI</a></p>\n",
       "\n",
       "            <dl>\n",
       "              <dt>Version</dt>\n",
       "                <dd><code>v3.2.1</code></dd>\n",
       "              <dt>Master</dt>\n",
       "                <dd><code>local[*]</code></dd>\n",
       "              <dt>AppName</dt>\n",
       "                <dd><code>sparkToPostgres</code></dd>\n",
       "            </dl>\n",
       "        </div>\n",
       "        \n",
       "            </div>\n",
       "        "
      ],
      "text/plain": [
       "<pyspark.sql.session.SparkSession at 0x72ede2bb1a60>"
      ]
     },
     "execution_count": 9,
     "metadata": {},
     "output_type": "execute_result"
    }
   ],
   "source": [
    "spark"
   ]
  },
  {
   "cell_type": "code",
   "execution_count": null,
   "id": "1a8b89b2-a0d5-4c4a-bc47-67d7da6c054b",
   "metadata": {},
   "outputs": [],
   "source": [
    "df = spark.read.csv(input_path)"
   ]
  }
 ],
 "metadata": {
  "kernelspec": {
   "display_name": "Python 3 (ipykernel)",
   "language": "python",
   "name": "python3"
  },
  "language_info": {
   "codemirror_mode": {
    "name": "ipython",
    "version": 3
   },
   "file_extension": ".py",
   "mimetype": "text/x-python",
   "name": "python",
   "nbconvert_exporter": "python",
   "pygments_lexer": "ipython3",
   "version": "3.8.13"
  }
 },
 "nbformat": 4,
 "nbformat_minor": 5
}
